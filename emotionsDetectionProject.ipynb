{
  "cells": [
    {
      "cell_type": "markdown",
      "metadata": {
        "id": "znrRaUI1qQx8"
      },
      "source": [
        "##**Imports**##"
      ]
    },
    {
      "cell_type": "code",
      "execution_count": 50,
      "metadata": {
        "colab": {
          "base_uri": "https://localhost:8080/"
        },
        "id": "dchepbo_66Ih",
        "outputId": "0781680a-01f7-4e64-80d5-0fc388f0f5a3"
      },
      "outputs": [
        {
          "output_type": "stream",
          "name": "stdout",
          "text": [
            "Mounted at /content/drive\n"
          ]
        }
      ],
      "source": [
        "from google.colab import drive\n",
        "drive.mount(\"/content/drive\", force_remount=True)"
      ]
    },
    {
      "cell_type": "code",
      "execution_count": 51,
      "metadata": {
        "id": "JHjtoNDQAdg8"
      },
      "outputs": [],
      "source": [
        "import numpy as np\n",
        "import h5py as h5\n",
        "import pandas as pd\n",
        "import matplotlib.pyplot as plt\n",
        "from scipy import signal\n",
        "import pdb"
      ]
    },
    {
      "cell_type": "markdown",
      "metadata": {
        "id": "PNX041DN28Xu"
      },
      "source": [
        "##**ITrainable Interface**##"
      ]
    },
    {
      "cell_type": "code",
      "execution_count": 52,
      "metadata": {
        "id": "XCSqIxg4A3vn"
      },
      "outputs": [],
      "source": [
        "class ITrainable():\n",
        "    \"\"\"\n",
        "    Interface for all trainable objects in the neural network.\n",
        "    This interface defines the methods that all trainable objects must implement.\n",
        "    It is an interface and so no function is implemented.\n",
        "    \"\"\"\n",
        "    def forward_propagation(self, X):\n",
        "      raise NotImplementedError(\"Not implemented - ITrainable is an interface\")\n",
        "    def backward_propagation(self, dY_hat):\n",
        "      raise NotImplementedError(\"Not implemented - ITrainable is an interface\")\n",
        "    def update_parameters(self):\n",
        "      raise NotImplementedError(\"Not implemented - ITrainable is an interface\")\n",
        "    def save_parameters(self, dir_path):\n",
        "      raise NotImplementedError(\"Not implemented - ITrainable is an interface\")\n",
        "    def load_parameters():\n",
        "      raise NotImplementedError(\"Not implemented - ITrainable is an interface\")"
      ]
    },
    {
      "cell_type": "markdown",
      "metadata": {
        "id": "w-OCQc-mMmES"
      },
      "source": [
        "\n",
        "##**Network**##"
      ]
    },
    {
      "cell_type": "code",
      "execution_count": 53,
      "metadata": {
        "id": "0hp3OJwIMlBm"
      },
      "outputs": [],
      "source": [
        "class Network(ITrainable):\n",
        "  def __init__(self, network=[]):\n",
        "    # Initialize the network with a list of layers (default is an empty list)\n",
        "    self.layers = network\n",
        "    # Set a name for the network\n",
        "    self.name = \"Yaeden's ANN\"\n",
        "\n",
        "  def __str__(self):\n",
        "    # Define a string representation of the network\n",
        "    s = f\"Network: \\n\"\n",
        "    j = 0\n",
        "    for i in self.layers:\n",
        "      j += 1\n",
        "      s += f\"{j}. {i}\\n\"\n",
        "    return s\n",
        "\n",
        "  def add(self, iTrainable):\n",
        "    # Add a new layer to the network\n",
        "    self.layers.append(iTrainable)\n",
        "\n",
        "  def forward_propagation(self, X):\n",
        "    # Perform forward propagation through all layers\n",
        "    p = X\n",
        "    for i in self.layers:\n",
        "      p = i.forward_propagation(p)\n",
        "    return p\n",
        "\n",
        "  def backward_propagation(self, dY_hat):\n",
        "    # Perform backward propagation through all layers in reverse order\n",
        "    p = dY_hat\n",
        "    for i in reversed(self.layers):\n",
        "      p = i.backward_propagation(p)\n",
        "    return p\n",
        "\n",
        "  def update_parameters(self, optimization):\n",
        "    # Update parameters of all layers using the given optimization method\n",
        "    for layer in self.layers:\n",
        "      layer.update_parameters(optimization)\n",
        "\n",
        "  def save_parameters(self, dir_path):\n",
        "    # Save parameters of all layers to the specified directory\n",
        "    path = dir_path + \"/\" + self.name\n",
        "    if os.path.exists(path) == False:\n",
        "      os.mkdir(path)\n",
        "    for layer in self.layers:\n",
        "      layer.save_parameters(path)\n",
        "\n",
        "  def load_parameters(self, dir_path):\n",
        "    # Load parameters of all layers from the specified directory\n",
        "    path = dir_path + \"/\" + self.name\n",
        "    for layer in self.layers:\n",
        "      layer.load_parameters(path)"
      ]
    },
    {
      "cell_type": "markdown",
      "metadata": {
        "id": "uN1P8R_c3Y0q"
      },
      "source": [
        "##**Dense Layer**##"
      ]
    },
    {
      "cell_type": "code",
      "execution_count": 54,
      "metadata": {
        "id": "d-Kyk81LwBq1"
      },
      "outputs": [],
      "source": [
        "class DenseLayer(ITrainable):\n",
        "  def __init__(self, input_size, layer_size, alpha, name):\n",
        "    # Initialize parameters\n",
        "    self.alpha = alpha  # Learning rate\n",
        "    self.name = name  # Name of the layer\n",
        "    self.optimization = None  # Optimization method (default: None)\n",
        "    self.layer_size = layer_size  # Number of units in the layer\n",
        "    self.input_size = input_size  # Number of input features\n",
        "    # Initialize weights using He initialization\n",
        "    self.W = np.random.randn(layer_size, input_size) * np.sqrt(2 / input_size)\n",
        "    # Initialize biases\n",
        "    self.b = np.random.randn(layer_size, 1)\n",
        "    # Adaptive learning rate parameters\n",
        "    self.adaptive_cont = 1.1\n",
        "    self.adaptive_switch = 0.5\n",
        "    self.adaptive_W = np.ones_like(self.W) * alpha\n",
        "    self.adaptive_b = np.ones_like(self.b) * alpha\n",
        "\n",
        "  def __str__(self):\n",
        "    # Return a string representation of the layer\n",
        "    s = f\"Dense Layer:\\n\"\n",
        "    s += f\"\\tlearning_rate (alpha): {self.alpha}\\n\"\n",
        "    s += f\"\\tnum inputs: {self.input_size}\\n\"\n",
        "    s += f\"\\tnum units: {self.layer_size}\\n\"\n",
        "    if self.optimization != None:\n",
        "      s += f\"\\tOptimization: {self.optimization}\\n\"\n",
        "      if self.optimization == \"adaptive\":\n",
        "        s += f\"\\t\\tadaptive parameters:\\n\"\n",
        "        s += f\"\\t\\t\\tcont: {self.adaptive_cont}\\n\"\n",
        "        s += f\"\\t\\t\\tswitch: {self.adaptive_switch}\\n\"\n",
        "    s += \"\\tParameters shape:\\n\"\n",
        "    s += f\"\\t\\tW shape: {self.W.shape}\\n\"\n",
        "    s += f\"\\t\\tb shape: {self.b.shape}\\n\"\n",
        "    return s\n",
        "\n",
        "  def forward_propagation(self, prev_A):\n",
        "    # Compute the linear transformation of inputs\n",
        "    self.prev_A = prev_A\n",
        "    Z = np.dot(self.W, self.prev_A) + self.b\n",
        "    return Z\n",
        "\n",
        "  def backward_propagation(self, dZ):\n",
        "    # Compute gradients with respect to weights and inputs\n",
        "    self.dW = np.dot(dZ, self.prev_A.T)\n",
        "    self.dZ = np.copy(dZ)\n",
        "    input_gradient = np.dot(self.W.T, self.dZ)\n",
        "    return input_gradient\n",
        "\n",
        "  def update_parameters(self, optimization):\n",
        "    if optimization == 'adaptive':\n",
        "      # Update parameters using adaptive learning rate\n",
        "      self.adaptive_W += self.dW**2\n",
        "      self.W -= self.alpha / np.sqrt(self.adaptive_W + 1e-8) * self.dW\n",
        "      self.adaptive_b += self.dZ**2\n",
        "      self.b -= self.alpha / np.sqrt(self.adaptive_b + 1e-8) * self.dZ\n",
        "    else:\n",
        "      # Standard gradient descent update\n",
        "      self.W -= self.alpha * self.dW\n",
        "      self.b -= self.alpha * self.dZ\n",
        "\n",
        "  def save_parameters(self, file_path):\n",
        "    # Save parameters to a file\n",
        "    file_name = file_path + \"/\" + self.name + \".h5\"\n",
        "    with h5.File(file_name, 'w') as hf:\n",
        "      hf.create_dataset(\"W\", data=self.W)\n",
        "      hf.create_dataset(\"b\", data=self.b)\n",
        "\n",
        "  def load_parameters(self, file_path):\n",
        "    # Load parameters from a file\n",
        "    file_name = file_path + \"/\" + self.name + \".h5\"\n",
        "    with h5.File(file_name, 'r') as hf:\n",
        "      self.W = hf['W'][:]\n",
        "      self.b = hf['b'][:]"
      ]
    },
    {
      "cell_type": "markdown",
      "metadata": {
        "id": "HJxh6MmOhJws"
      },
      "source": [
        "##**Activation**##"
      ]
    },
    {
      "cell_type": "code",
      "execution_count": 55,
      "metadata": {
        "id": "N9_AHNdL8J3V"
      },
      "outputs": [],
      "source": [
        "class Activation(ITrainable):\n",
        "    def __init__(self, activation):\n",
        "        # Initialize activation function and set the corresponding forward and backward propagation methods\n",
        "        self.name = activation  # Name of the activation function\n",
        "        self.leaky_relu_d = 0.01  # Default slope for Leaky ReLU\n",
        "        if activation == 'sigmoid':\n",
        "            self.forward_propagation = self.sigmoid\n",
        "            self.backward_propagation = self.sigmoid_dZ\n",
        "        elif activation == 'tanh':\n",
        "            self.forward_propagation = self.tanh\n",
        "            self.backward_propagation = self.tanh_dZ\n",
        "        elif activation == 'relu':\n",
        "            self.forward_propagation = self.relu\n",
        "            self.backward_propagation = self.relu_dZ\n",
        "        elif activation == 'leaky_relu':\n",
        "            self.forward_propagation = self.leaky_relu\n",
        "            self.backward_propagation = self.leaky_relu_dZ\n",
        "        elif activation == 'softmax':\n",
        "            self.forward_propagation = self.softmax\n",
        "            self.backward_propagation = self.softmax_dZ\n",
        "        else:\n",
        "            # Raise an error if the activation function is not valid\n",
        "            raise ValueError(f\"{activation} is not a valid activation function\\n\")\n",
        "\n",
        "    def __str__(self):\n",
        "        # Return a string representation of the activation function\n",
        "        s = f\"Activation function: {self.name}\\n\"\n",
        "        if self.name == 'leaky_relu':\n",
        "            s += f\"\\td = {self.leaky_relu_d}\\n\"\n",
        "        return s\n",
        "\n",
        "    def sigmoid(self, input):\n",
        "        # Sigmoid activation function\n",
        "        self.input = input\n",
        "        Sig = 1 / (1 + np.exp(-input))\n",
        "        return Sig\n",
        "\n",
        "    def sigmoid_dZ(self, dA):\n",
        "        # Gradient of the sigmoid activation function\n",
        "        sig = self.sigmoid(self.input)\n",
        "        return np.multiply(dA, sig * (1 - sig))\n",
        "\n",
        "    def tanh(self, Z):\n",
        "        # Tanh activation function\n",
        "        self.Z = Z\n",
        "        self.A = np.tanh(Z)\n",
        "        return self.A\n",
        "\n",
        "    def tanh_dZ(self, dA):\n",
        "        # Gradient of the tanh activation function\n",
        "        dA_dZ = 1 - np.tanh(self.Z) ** 2\n",
        "        return dA_dZ * dA\n",
        "\n",
        "    def relu(self, Z):\n",
        "        # ReLU activation function\n",
        "        self.input = Z\n",
        "        self.res = np.maximum(0, Z)\n",
        "        return self.res\n",
        "\n",
        "    def relu_dZ(self, dA):\n",
        "        # Gradient of the ReLU activation function\n",
        "        dZ = np.array(dA, copy=True)\n",
        "        dZ[self.input <= 0] = 0\n",
        "        return dZ\n",
        "\n",
        "    def leaky_relu(self, Z):\n",
        "        # Leaky ReLU activation function\n",
        "        self.Z = Z\n",
        "        self.A = np.where(self.Z <= 0, self.leaky_relu_d * self.Z, self.Z)\n",
        "        return self.A\n",
        "\n",
        "    def leaky_relu_dZ(self, dA):\n",
        "        # Gradient of the Leaky ReLU activation function\n",
        "        dZ = np.where(self.Z <= 0, self.leaky_relu_d, 1)\n",
        "        return dZ\n",
        "\n",
        "    def softmax(self, Z):\n",
        "        # Softmax activation function\n",
        "        self.input = Z\n",
        "        Z_max = np.max(Z, axis=0, keepdims=True)  # Subtract max for numerical stability\n",
        "        exp_Z = np.exp(Z - Z_max)\n",
        "        sum_exp_Z = np.sum(exp_Z, axis=0, keepdims=True)\n",
        "        self.res = exp_Z / sum_exp_Z\n",
        "        return self.res\n",
        "\n",
        "    def softmax_dZ(self, dA):\n",
        "        # Gradient of the softmax activation function\n",
        "        s = self.res.reshape(-1, 1)\n",
        "        dZ = s * (dA - np.sum(dA * s, axis=0, keepdims=True))\n",
        "        return dZ\n",
        "\n",
        "    def update_parameters(self, optimization):\n",
        "        # Placeholder for parameter update method (not used in activation functions)\n",
        "        pass\n",
        "\n",
        "    def save_parameters(self, file_path):\n",
        "        # Placeholder for save parameters method (not used in activation functions)\n",
        "        pass\n",
        "\n",
        "    def load_parameters(self, file_path):\n",
        "        # Placeholder for load parameters method (not used in activation functions)\n",
        "        pass"
      ]
    },
    {
      "cell_type": "markdown",
      "metadata": {
        "id": "xtWYOEWl0cgU"
      },
      "source": [
        "##**DLModel**##"
      ]
    },
    {
      "cell_type": "code",
      "execution_count": 56,
      "metadata": {
        "id": "pagaBEZqlCl7"
      },
      "outputs": [],
      "source": [
        "class DLModel():\n",
        "\n",
        "  def __init__(self,name,iTrainable,loss,optimization=None):\n",
        "    self.name = name\n",
        "    self.iTrainable = iTrainable\n",
        "    self.loss = loss\n",
        "    self.optimization = optimization\n",
        "    if self.loss == \"square_dist\":\n",
        "      self.loss_forward = self.square_dist\n",
        "      self.loss_backward = self.dSquare_dist\n",
        "    elif self.loss == \"cross_entropy\":\n",
        "      self.loss_forward = self.cross_entropy\n",
        "      self.loss_backward = self.dCross_entropy\n",
        "    elif self.loss == \"categorical_cross_entropy\":\n",
        "      self.loss_forward = self.categorical_cross_entropy\n",
        "      self.loss_backward = self.dCategorical_cross_entropy\n",
        "    else:\n",
        "      raise ValueError(\"none square dist or cross entropy\")\n",
        "\n",
        "  def __str__(self):\n",
        "\n",
        "    s = self.name + \"\\n\"\n",
        "\n",
        "    s += \"\\tLoss function: \" + self.loss + \"\\n\"\n",
        "\n",
        "    s += f\"\\t{self.iTrainable}\\n\"\n",
        "\n",
        "    return s\n",
        "\n",
        "  def forward_propagation(self,prev_A):\n",
        "    return self.iTrainable.forward_propagation(prev_A)\n",
        "\n",
        "\n",
        "  def square_dist(self,Y_hat,Y):\n",
        "    errors = (Y_hat - Y)**2\n",
        "    return errors\n",
        "\n",
        "  def dSquare_dist(self,Y_hat,Y):\n",
        "    m = Y.shape[1]\n",
        "    dY_hat = 2*(Y_hat - Y)/m\n",
        "    return dY_hat\n",
        "\n",
        "  def compute_cost(self,Y_hat,Y):\n",
        "    m = Y.shape[1]\n",
        "    errors = self.loss_forward(Y_hat,Y)\n",
        "    J = np.sum(errors)\n",
        "    return J/m\n",
        "\n",
        "  def backward_propagation(self,Y_hat,Y):\n",
        "    dY_hat = self.loss_backward(Y_hat,Y)\n",
        "    return self.iTrainable.backward_propagation(dY_hat)\n",
        "\n",
        "\n",
        "  def cross_entropy(self, Y_hat, Y):\n",
        "    # Clip predictions to prevent log(0) which is undefined\n",
        "    Y_hat = np.clip(Y_hat, 1e-15, 1 - 1e-15)\n",
        "\n",
        "    # Binary classification case\n",
        "    # if Y.ndim == 1 or Y.shape[1] == 1:\n",
        "    #     loss = - (Y * np.log(Y_hat) + (1 - Y) * np.log(1 - Y_hat))\n",
        "\n",
        "    # Multi-class classification case\n",
        "    # else:\n",
        "     # Reshape Y_hat to match the number of classifications\n",
        "\n",
        "    # Calculate the loss\n",
        "    loss = -np.sum(Y * np.log(Y_hat), axis=1)\n",
        "    return np.mean(loss)\n",
        "\n",
        "  def dCross_entropy(self,Y_hat,Y):\n",
        "    # Clip predictions to prevent division by zero\n",
        "    Y_hat = np.clip(Y_hat, 1e-15, 1 - 1e-15)\n",
        "\n",
        "    # Compute the gradient for binary classification\n",
        "    if Y.ndim == 1 or Y.shape[1] == 1:\n",
        "        gradient = (Y_hat - Y) / (Y_hat * (1 - Y_hat))\n",
        "\n",
        "    # Compute the gradient for multi-class classification\n",
        "    else:\n",
        "        gradient = Y_hat - Y\n",
        "\n",
        "    return gradient\n",
        "\n",
        "\n",
        "  def categorical_cross_entropy(self,Y_hat,Y):\n",
        "    # Clip predictions to prevent log(0) which is undefined\n",
        "    Y_hat = np.clip(Y_hat, 1e-15, 1 - 1e-15)\n",
        "    # Compute the cross-entropy loss for each sample\n",
        "    loss = -np.sum(Y * np.log(Y_hat), axis=1)\n",
        "    # Return the average loss over all samples\n",
        "    return np.mean(loss)\n",
        "\n",
        "  def dCategorical_cross_entropy(self, Y_hat, Y):\n",
        "    # Clip predictions to prevent division by zero\n",
        "    Y_hat = np.clip(Y_hat, 1e-15, 1 - 1e-15)\n",
        "\n",
        "    # Compute the gradient\n",
        "    gradient = Y_hat - Y\n",
        "\n",
        "    # Return the gradient\n",
        "    return gradient\n",
        "\n",
        "  def train(self, x_train, y_train, num_iterations, verbose = True):\n",
        "    errors = []\n",
        "    for i in range(num_iterations):\n",
        "      error = 0\n",
        "      for X,Y in zip(x_train,y_train):\n",
        "        #forward propagation\n",
        "        Y_hat = self.forward_propagation(X)\n",
        "\n",
        "        #error\n",
        "        error += self.loss_forward(Y_hat, Y)\n",
        "\n",
        "\n",
        "        #backward propagation\n",
        "        self.backward_propagation(Y_hat, Y)\n",
        "        self.iTrainable.update_parameters(self.optimization)\n",
        "\n",
        "\n",
        "      error /= len(x_train)\n",
        "      errors.append(error)\n",
        "      if verbose:\n",
        "        print(f\"error after {i+1} updates ({((i+1)*100)//num_iterations}%): {error}\")\n",
        "    return errors\n"
      ]
    },
    {
      "cell_type": "markdown",
      "metadata": {
        "id": "3y8cCIX18muu"
      },
      "source": [
        "##**Dataset Handler**##"
      ]
    },
    {
      "cell_type": "code",
      "execution_count": 57,
      "metadata": {
        "id": "7-gBGw1fkym6"
      },
      "outputs": [],
      "source": [
        "import os\n",
        "from PIL import Image\n",
        "import numpy as np\n",
        "\n",
        "def load_image_data(data_dir, image_size=(64, 64)):\n",
        "    \"\"\"\n",
        "    Load image data from directory.\n",
        "\n",
        "    Parameters:\n",
        "    data_dir (str): Path to the data directory.\n",
        "    image_size (tuple): Size to which each image will be resized (width, height).\n",
        "\n",
        "    Returns:\n",
        "    tuple: Tuple containing (X, Y) where X is the image data and Y is the labels.\n",
        "    \"\"\"\n",
        "    classes = sorted(os.listdir(data_dir))\n",
        "    X = []\n",
        "    Y = []\n",
        "\n",
        "    for label, class_name in enumerate(classes):\n",
        "        class_dir = os.path.join(data_dir, class_name)\n",
        "        for image_name in os.listdir(class_dir):\n",
        "            image_path = os.path.join(class_dir, image_name)\n",
        "            # Check if the image is in supported formats\n",
        "            if image_path.lower().endswith(('.jpg', '.jpeg', '.png')):\n",
        "                try:\n",
        "                    image = Image.open(image_path).resize(image_size)\n",
        "                    image = np.array(image)\n",
        "                    if len(image.shape) == 2:  # Convert grayscale to RGB\n",
        "                        image = np.stack([image] * 3, axis=-1)\n",
        "                    elif image.shape[2] == 4:  # Remove alpha channel if present\n",
        "                        image = image[:, :, :3]\n",
        "                    X.append(image)\n",
        "                    Y.append(label)\n",
        "                except Exception as e:\n",
        "                    print(f\"Error processing image {image_path}: {e}\")\n",
        "            else:\n",
        "                print(f\"Unsupported file format for image {image_path}\")\n",
        "\n",
        "    X = np.array(X)\n",
        "    Y = np.array(Y)\n",
        "\n",
        "    return X, Y"
      ]
    },
    {
      "cell_type": "markdown",
      "metadata": {
        "id": "ydrEwZlR0oIk"
      },
      "source": [
        "##**Data Phrase**##"
      ]
    },
    {
      "cell_type": "code",
      "execution_count": 58,
      "metadata": {
        "colab": {
          "base_uri": "https://localhost:8080/"
        },
        "id": "m0lvTSiYqWR5",
        "outputId": "1b96e3b8-637b-400e-964c-e81594d142ad"
      },
      "outputs": [
        {
          "output_type": "stream",
          "name": "stdout",
          "text": [
            "(3152, 64, 64, 3)\n",
            "(3152,)\n"
          ]
        }
      ],
      "source": [
        "import numpy as np\n",
        "import keras\n",
        "from keras.utils import to_categorical\n",
        "import matplotlib.pyplot as plt\n",
        "\n",
        "def print_costs(costs, num_iterations):\n",
        "    plt.plot(costs)\n",
        "    plt.ylabel('cost')\n",
        "    plt.xlabel(f'iterations (per {num_iterations//100})')\n",
        "    plt.show()\n",
        "\n",
        "X_train1, Y_train1 = load_image_data('/content/drive/MyDrive/datasets/EmotionsDataset_Splitted/data/train', (64, 64))\n",
        "X_test1, Y_test1 = load_image_data('/content/drive/MyDrive/datasets/EmotionsDataset_Splitted/data/test', (64, 64))\n",
        "\n",
        "print(X_train1.shape)\n",
        "print(Y_train1.shape)"
      ]
    },
    {
      "cell_type": "code",
      "execution_count": 59,
      "metadata": {
        "colab": {
          "base_uri": "https://localhost:8080/"
        },
        "id": "b8ic3d75qp3v",
        "outputId": "68d6919b-2ec9-4c1e-f14e-77517ef28232"
      },
      "outputs": [
        {
          "output_type": "stream",
          "name": "stdout",
          "text": [
            "[0 1 2 3]\n",
            "(3, 64, 64)\n"
          ]
        }
      ],
      "source": [
        "classifications = np.unique(Y_train1)\n",
        "classifications_names = [\n",
        "    \"angry\", \"happy\", \"nothing\", \"sad\"\n",
        "]\n",
        "image_shape = (3, 64, 64)\n",
        "print(classifications)\n",
        "print(image_shape)\n"
      ]
    },
    {
      "cell_type": "code",
      "execution_count": 60,
      "metadata": {
        "colab": {
          "base_uri": "https://localhost:8080/",
          "height": 830
        },
        "id": "peB8GiK9m7_4",
        "outputId": "569a48f6-3624-4940-f898-bf691f1553fb"
      },
      "outputs": [
        {
          "output_type": "display_data",
          "data": {
            "text/plain": [
              "<Figure size 640x480 with 1 Axes>"
            ],
            "image/png": "[encoded data removed]"
          },
          "metadata": {}
        },
        {
          "output_type": "stream",
          "name": "stdout",
          "text": [
            "yes\n"
          ]
        },
        {
          "output_type": "display_data",
          "data": {
            "text/plain": [
              "<Figure size 640x480 with 1 Axes>"
            ],
            "image/png": "[encoded data removed]"
          },
          "metadata": {}
        },
        {
          "output_type": "stream",
          "name": "stdout",
          "text": [
            "angry\n"
          ]
        }
      ],
      "source": [
        "import matplotlib.pyplot as plt\n",
        "\n",
        "def show_image(image, grayscale=False):\n",
        "    plt.imshow(image, cmap='gray' if grayscale else None)\n",
        "    plt.axis('off')\n",
        "    plt.show()\n",
        "\n",
        "# Choose an image index from X_train1\n",
        "image_index = 3\n",
        "\n",
        "# Show the image\n",
        "show_image(X_train1[image_index], grayscale=True)\n",
        "\n",
        "# Check if the image is RGB\n",
        "if len(X_train1.shape) == 4:\n",
        "    print(\"yes\")\n",
        "    show_image(X_train1[image_index])\n",
        "\n",
        "print(classifications_names[Y_train1[image_index]])\n",
        "\n"
      ]
    },
    {
      "cell_type": "code",
      "execution_count": 61,
      "metadata": {
        "id": "x-VIpfYUrUNT"
      },
      "outputs": [],
      "source": [
        "def preprocess_data(x, y, limit,classifications,image_shape):\n",
        "    indices = []\n",
        "    for i in range(len(classifications)):\n",
        "      indices.append(np.where(y == i)[0][:limit])\n",
        "    all_indices = np.hstack(indices)\n",
        "    all_indices = np.random.permutation(all_indices)\n",
        "    x, y = x[all_indices], y[all_indices]\n",
        "    x = x.reshape(len(x), image_shape[0],image_shape[1],image_shape[2])\n",
        "    x = x/255\n",
        "    y = to_categorical(y)\n",
        "    y = y.reshape(len(y), len(classifications), 1)\n",
        "    return x, y"
      ]
    },
    {
      "cell_type": "code",
      "execution_count": 62,
      "metadata": {
        "id": "0HDYgN2mrulP"
      },
      "outputs": [],
      "source": [
        "x_train, y_train = preprocess_data(X_train1, Y_train1, 1500, classifications, image_shape)\n",
        "x_test, y_test = preprocess_data(X_test1, Y_test1, 1500, classifications, image_shape)"
      ]
    },
    {
      "cell_type": "code",
      "execution_count": 63,
      "metadata": {
        "colab": {
          "base_uri": "https://localhost:8080/"
        },
        "id": "-201l6Grod14",
        "outputId": "1f9a7bce-74af-4108-f78c-b05b7c3c4151"
      },
      "outputs": [
        {
          "output_type": "stream",
          "name": "stdout",
          "text": [
            "x_train shape: (3152, 3, 64, 64)\n",
            "y_train shape: (3152, 4, 1)\n",
            "x_test shape: (788, 3, 64, 64)\n",
            "y_test shape: (788, 4, 1)\n"
          ]
        }
      ],
      "source": [
        "print(\"x_train shape:\",x_train.shape)\n",
        "print(\"y_train shape:\",y_train.shape)\n",
        "print(\"x_test shape:\",x_test.shape)\n",
        "print(\"y_test shape:\",y_test.shape)"
      ]
    },
    {
      "cell_type": "code",
      "execution_count": 64,
      "metadata": {
        "colab": {
          "base_uri": "https://localhost:8080/",
          "height": 441
        },
        "id": "eWq8THP0pATy",
        "outputId": "f833c1fd-3b19-4f28-cdc8-369b931d8a09"
      },
      "outputs": [
        {
          "output_type": "stream",
          "name": "stdout",
          "text": [
            "(3, 64, 64)\n"
          ]
        },
        {
          "output_type": "display_data",
          "data": {
            "text/plain": [
              "<Figure size 640x480 with 1 Axes>"
            ],
            "image/png": "[encoded data removed]"
          },
          "metadata": {}
        },
        {
          "output_type": "stream",
          "name": "stdout",
          "text": [
            "happy\n"
          ]
        }
      ],
      "source": [
        "image = x_train[image_index]\n",
        "print(image.shape)\n",
        "image = image.reshape(image_shape[2],image_shape[1],image_shape[0])\n",
        "# Show the image\n",
        "show_image(image, grayscale=True)\n",
        "\n",
        "# Check if the image is RGB\n",
        "if x_train.shape[0] == 3:\n",
        "    show_image(x_train[image_index])\n",
        "\n",
        "print(classifications_names[np.argmax(y_train[image_index])])"
      ]
    },
    {
      "cell_type": "markdown",
      "metadata": {
        "id": "X_LG2Oc4t424"
      },
      "source": [
        "##**Train Model**##"
      ]
    },
    {
      "cell_type": "code",
      "execution_count": null,
      "metadata": {
        "colab": {
          "base_uri": "https://localhost:8080/"
        },
        "id": "m-P85rgZt61N",
        "outputId": "cfdf13e2-bdb2-4416-9b6a-6a041229259f"
      },
      "outputs": [
        {
          "output_type": "stream",
          "name": "stdout",
          "text": [
            "(3152, 12288, 1)\n",
            "(788, 12288, 1)\n",
            "Network: \n",
            "1. Dense Layer:\n",
            "\tlearning_rate (alpha): 0.001\n",
            "\tnum inputs: 12288\n",
            "\tnum units: 128\n",
            "\tParameters shape:\n",
            "\t\tW shape: (128, 12288)\n",
            "\t\tb shape: (128, 1)\n",
            "\n",
            "2. Activation function: relu\n",
            "\n",
            "3. Dense Layer:\n",
            "\tlearning_rate (alpha): 0.001\n",
            "\tnum inputs: 128\n",
            "\tnum units: 4\n",
            "\tParameters shape:\n",
            "\t\tW shape: (4, 128)\n",
            "\t\tb shape: (4, 1)\n",
            "\n",
            "4. Activation function: softmax\n",
            "\n",
            "\n",
            "error after 1 updates (5%): 0.35580299294852746\n",
            "error after 2 updates (10%): 0.2332704024443922\n",
            "error after 3 updates (15%): 0.21545988218698592\n"
          ]
        }
      ],
      "source": [
        "# print(np.prod(image_shape))\n",
        "# neural network\n",
        "x_train_flatten = x_train.reshape(x_train.shape[0], np.prod(image_shape), 1)\n",
        "x_test_flatten = x_test.reshape(x_test.shape[0], np.prod(image_shape), 1)\n",
        "print(x_train_flatten.shape)\n",
        "print(x_test_flatten.shape)\n",
        "network = [\n",
        "    DenseLayer(np.prod((image_shape)), 128, 0.001,'Dense1'),\n",
        "    Activation(\"relu\"),\n",
        "    DenseLayer(128, len(classifications), 0.001,'Dense2'),\n",
        "    Activation(\"softmax\")\n",
        "]\n",
        "net = Network(network)\n",
        "print(net)\n",
        "\n",
        "model = DLModel('model', net, \"categorical_cross_entropy\")\n",
        "costs = model.train(x_train_flatten, y_train, 20)"
      ]
    },
    {
      "cell_type": "code",
      "execution_count": null,
      "metadata": {
        "id": "wzohCnHau3pf"
      },
      "outputs": [],
      "source": [
        "print_costs(costs,20)\n",
        "net.save_parameters(\"/content/drive/MyDrive/Colab Notebooks\")"
      ]
    },
    {
      "cell_type": "code",
      "execution_count": null,
      "metadata": {
        "id": "OFnICHER3fN9"
      },
      "outputs": [],
      "source": [
        "# prompt: create a function that takes a bunch of data and splits x_test and y_test to every image and feeds it to the net and messures the accuracy of the network, add a boolean parameter witch adds the option to deicide if the results for each image would be shown or not\n",
        "\n",
        "def test_model(net,x_test,y_test,show_results=True):\n",
        "  correct = 0\n",
        "  for i in range(len(x_test)):\n",
        "    x = x_test[i]\n",
        "    y = y_test[i]\n",
        "    y_hat = net.forward_propagation(x)\n",
        "    predicted_class = np.argmax(y_hat)\n",
        "    actual_class = np.argmax(y)\n",
        "    if predicted_class == actual_class:\n",
        "      correct += 1\n",
        "    if show_results:\n",
        "      print(f\"Image {i+1}: Predicted class: {predicted_class}, Actual class: {actual_class}, Correct: {predicted_class == actual_class}\")\n",
        "  accuracy = correct / len(x_test)\n",
        "  print(f\"Accuracy: {accuracy*100:.2f}%\")\n",
        "\n",
        "test_model(net,x_test_flatten,y_test,False)"
      ]
    },
    {
      "cell_type": "code",
      "execution_count": null,
      "metadata": {
        "id": "-6x_Lps44_bz"
      },
      "outputs": [],
      "source": [
        "# prompt: create a function called evaluate image that gets as input an image numpy array and outputs the prediction, add a string array parameter called classifications that by it would output the name of the classification\n",
        "\n",
        "def evaluate_image(image, classifications):\n",
        "  \"\"\"\n",
        "  Evaluates an image and outputs the prediction.\n",
        "\n",
        "  Args:\n",
        "    image (np.ndarray): The image to evaluate.\n",
        "    classifications (list): A list of classification names.\n",
        "\n",
        "  Returns:\n",
        "    tuple: A tuple containing the predicted class index and the predicted class name.\n",
        "  \"\"\"\n",
        "\n",
        "  # Make a prediction\n",
        "  y_hat = net.forward_propagation(image)\n",
        "  predicted_class_index = np.argmax(y_hat)\n",
        "\n",
        "  # Get the predicted class name\n",
        "  predicted_class_name = classifications[predicted_class_index]\n",
        "\n",
        "  return predicted_class_index, predicted_class_name,y_hat\n",
        "\n",
        "image_index = np.random.randint(0, len(x_test))\n",
        "image = x_test[image_index]\n",
        "image = image.reshape(image_shape[2],image_shape[1],image_shape[0])\n",
        "# Show the image\n",
        "show_image(image, grayscale=True)\n",
        "\n",
        "# Check if the image is RGB\n",
        "if image.shape[1] == 3:\n",
        "    show_image(image)\n",
        "\n",
        "image = image.reshape(np.prod(image_shape), 1)\n",
        "\n",
        "predicted_class_index, predicted_class_name,prediction = evaluate_image(image, classifications_names)\n",
        "print(f\"Predicted class: {predicted_class_name}\")\n",
        "# print(f\"Prediction: {prediction}\")\n",
        "print(f\"Real class: {classifications_names[np.argmax(y_test[image_index])]}\")"
      ]
    }
  ],
  "metadata": {
    "colab": {
      "collapsed_sections": [
        "znrRaUI1qQx8",
        "PNX041DN28Xu",
        "uN1P8R_c3Y0q",
        "HJxh6MmOhJws",
        "3y8cCIX18muu"
      ],
      "provenance": []
    },
    "kernelspec": {
      "display_name": "Python 3",
      "name": "python3"
    },
    "language_info": {
      "name": "python"
    }
  },
  "nbformat": 4,
  "nbformat_minor": 0
}